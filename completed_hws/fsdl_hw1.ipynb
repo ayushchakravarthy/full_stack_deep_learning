{
  "nbformat": 4,
  "nbformat_minor": 0,
  "metadata": {
    "colab": {
      "name": "fsdl_hw1.ipynb",
      "provenance": []
    },
    "kernelspec": {
      "name": "python3",
      "display_name": "Python 3"
    },
    "accelerator": "GPU"
  },
  "cells": [
    {
      "cell_type": "code",
      "metadata": {
        "colab": {
          "base_uri": "https://localhost:8080/"
        },
        "id": "FbJcBilTnuNx",
        "outputId": "cc5364b9-725b-4622-a295-4fa785ebee9e"
      },
      "source": [
        "!nvidia-smi"
      ],
      "execution_count": null,
      "outputs": [
        {
          "output_type": "stream",
          "text": [
            "Thu Feb 25 23:56:29 2021       \n",
            "+-----------------------------------------------------------------------------+\n",
            "| NVIDIA-SMI 460.39       Driver Version: 460.32.03    CUDA Version: 11.2     |\n",
            "|-------------------------------+----------------------+----------------------+\n",
            "| GPU  Name        Persistence-M| Bus-Id        Disp.A | Volatile Uncorr. ECC |\n",
            "| Fan  Temp  Perf  Pwr:Usage/Cap|         Memory-Usage | GPU-Util  Compute M. |\n",
            "|                               |                      |               MIG M. |\n",
            "|===============================+======================+======================|\n",
            "|   0  Tesla T4            Off  | 00000000:00:04.0 Off |                    0 |\n",
            "| N/A   40C    P8     9W /  70W |      0MiB / 15109MiB |      0%      Default |\n",
            "|                               |                      |                  N/A |\n",
            "+-------------------------------+----------------------+----------------------+\n",
            "                                                                               \n",
            "+-----------------------------------------------------------------------------+\n",
            "| Processes:                                                                  |\n",
            "|  GPU   GI   CI        PID   Type   Process name                  GPU Memory |\n",
            "|        ID   ID                                                   Usage      |\n",
            "|=============================================================================|\n",
            "|  No running processes found                                                 |\n",
            "+-----------------------------------------------------------------------------+\n"
          ],
          "name": "stdout"
        }
      ]
    },
    {
      "cell_type": "code",
      "metadata": {
        "colab": {
          "base_uri": "https://localhost:8080/"
        },
        "id": "BEWSX4KGn5HB",
        "outputId": "1932f4ca-c74f-4bc6-f57c-9a81cc8fd838"
      },
      "source": [
        "# FSDL Spring 2021 Setup\n",
        "!git clone https://github.com/full-stack-deep-learning/fsdl-text-recognizer-2021-labs\n",
        "%cd fsdl-text-recognizer-2021-labs\n",
        "!pip install pytorch_lightning==1.1.4\n",
        "%env PYTHONPATH=.:$PYTHONPATH"
      ],
      "execution_count": null,
      "outputs": [
        {
          "output_type": "stream",
          "text": [
            "Cloning into 'fsdl-text-recognizer-2021-labs'...\n",
            "remote: Enumerating objects: 216, done.\u001b[K\n",
            "remote: Counting objects: 100% (216/216), done.\u001b[K\n",
            "remote: Compressing objects: 100% (162/162), done.\u001b[K\n",
            "remote: Total 216 (delta 81), reused 175 (delta 49), pack-reused 0\u001b[K\n",
            "Receiving objects: 100% (216/216), 2.88 MiB | 7.03 MiB/s, done.\n",
            "Resolving deltas: 100% (81/81), done.\n",
            "/content/fsdl-text-recognizer-2021-labs\n",
            "Collecting pytorch_lightning==1.1.4\n",
            "\u001b[?25l  Downloading https://files.pythonhosted.org/packages/12/98/86a89dcd54f84582bbf24cb29cd104b966fcf934d92d5dfc626f225015d2/pytorch_lightning-1.1.4-py3-none-any.whl (684kB)\n",
            "\u001b[K     |████████████████████████████████| 686kB 7.2MB/s \n",
            "\u001b[?25hRequirement already satisfied: numpy>=1.16.6 in /usr/local/lib/python3.7/dist-packages (from pytorch_lightning==1.1.4) (1.19.5)\n",
            "Requirement already satisfied: torch>=1.3 in /usr/local/lib/python3.7/dist-packages (from pytorch_lightning==1.1.4) (1.7.0+cu101)\n",
            "Collecting PyYAML>=5.1\n",
            "\u001b[?25l  Downloading https://files.pythonhosted.org/packages/7a/a5/393c087efdc78091afa2af9f1378762f9821c9c1d7a22c5753fb5ac5f97a/PyYAML-5.4.1-cp37-cp37m-manylinux1_x86_64.whl (636kB)\n",
            "\u001b[K     |████████████████████████████████| 645kB 14.2MB/s \n",
            "\u001b[?25hCollecting fsspec[http]>=0.8.1\n",
            "\u001b[?25l  Downloading https://files.pythonhosted.org/packages/91/0d/a6bfee0ddf47b254286b9bd574e6f50978c69897647ae15b14230711806e/fsspec-0.8.7-py3-none-any.whl (103kB)\n",
            "\u001b[K     |████████████████████████████████| 112kB 32.4MB/s \n",
            "\u001b[?25hRequirement already satisfied: tqdm>=4.41.0 in /usr/local/lib/python3.7/dist-packages (from pytorch_lightning==1.1.4) (4.41.1)\n",
            "Requirement already satisfied: tensorboard>=2.2.0 in /usr/local/lib/python3.7/dist-packages (from pytorch_lightning==1.1.4) (2.4.1)\n",
            "Collecting future>=0.17.1\n",
            "\u001b[?25l  Downloading https://files.pythonhosted.org/packages/45/0b/38b06fd9b92dc2b68d58b75f900e97884c45bedd2ff83203d933cf5851c9/future-0.18.2.tar.gz (829kB)\n",
            "\u001b[K     |████████████████████████████████| 829kB 21.9MB/s \n",
            "\u001b[?25hRequirement already satisfied: typing-extensions in /usr/local/lib/python3.7/dist-packages (from torch>=1.3->pytorch_lightning==1.1.4) (3.7.4.3)\n",
            "Requirement already satisfied: dataclasses in /usr/local/lib/python3.7/dist-packages (from torch>=1.3->pytorch_lightning==1.1.4) (0.6)\n",
            "Requirement already satisfied: importlib-metadata; python_version < \"3.8\" in /usr/local/lib/python3.7/dist-packages (from fsspec[http]>=0.8.1->pytorch_lightning==1.1.4) (3.4.0)\n",
            "Requirement already satisfied: requests; extra == \"http\" in /usr/local/lib/python3.7/dist-packages (from fsspec[http]>=0.8.1->pytorch_lightning==1.1.4) (2.23.0)\n",
            "Collecting aiohttp; extra == \"http\"\n",
            "\u001b[?25l  Downloading https://files.pythonhosted.org/packages/5b/a6/d36302eba284f4f427dc288f6b3ecd7f89d739cfca206b80311d3158f6d9/aiohttp-3.7.4-cp37-cp37m-manylinux2014_x86_64.whl (1.3MB)\n",
            "\u001b[K     |████████████████████████████████| 1.3MB 38.2MB/s \n",
            "\u001b[?25hRequirement already satisfied: protobuf>=3.6.0 in /usr/local/lib/python3.7/dist-packages (from tensorboard>=2.2.0->pytorch_lightning==1.1.4) (3.12.4)\n",
            "Requirement already satisfied: google-auth<2,>=1.6.3 in /usr/local/lib/python3.7/dist-packages (from tensorboard>=2.2.0->pytorch_lightning==1.1.4) (1.27.0)\n",
            "Requirement already satisfied: google-auth-oauthlib<0.5,>=0.4.1 in /usr/local/lib/python3.7/dist-packages (from tensorboard>=2.2.0->pytorch_lightning==1.1.4) (0.4.2)\n",
            "Requirement already satisfied: setuptools>=41.0.0 in /usr/local/lib/python3.7/dist-packages (from tensorboard>=2.2.0->pytorch_lightning==1.1.4) (53.0.0)\n",
            "Requirement already satisfied: absl-py>=0.4 in /usr/local/lib/python3.7/dist-packages (from tensorboard>=2.2.0->pytorch_lightning==1.1.4) (0.10.0)\n",
            "Requirement already satisfied: tensorboard-plugin-wit>=1.6.0 in /usr/local/lib/python3.7/dist-packages (from tensorboard>=2.2.0->pytorch_lightning==1.1.4) (1.8.0)\n",
            "Requirement already satisfied: six>=1.10.0 in /usr/local/lib/python3.7/dist-packages (from tensorboard>=2.2.0->pytorch_lightning==1.1.4) (1.15.0)\n",
            "Requirement already satisfied: markdown>=2.6.8 in /usr/local/lib/python3.7/dist-packages (from tensorboard>=2.2.0->pytorch_lightning==1.1.4) (3.3.3)\n",
            "Requirement already satisfied: grpcio>=1.24.3 in /usr/local/lib/python3.7/dist-packages (from tensorboard>=2.2.0->pytorch_lightning==1.1.4) (1.32.0)\n",
            "Requirement already satisfied: werkzeug>=0.11.15 in /usr/local/lib/python3.7/dist-packages (from tensorboard>=2.2.0->pytorch_lightning==1.1.4) (1.0.1)\n",
            "Requirement already satisfied: wheel>=0.26; python_version >= \"3\" in /usr/local/lib/python3.7/dist-packages (from tensorboard>=2.2.0->pytorch_lightning==1.1.4) (0.36.2)\n",
            "Requirement already satisfied: zipp>=0.5 in /usr/local/lib/python3.7/dist-packages (from importlib-metadata; python_version < \"3.8\"->fsspec[http]>=0.8.1->pytorch_lightning==1.1.4) (3.4.0)\n",
            "Requirement already satisfied: idna<3,>=2.5 in /usr/local/lib/python3.7/dist-packages (from requests; extra == \"http\"->fsspec[http]>=0.8.1->pytorch_lightning==1.1.4) (2.10)\n",
            "Requirement already satisfied: chardet<4,>=3.0.2 in /usr/local/lib/python3.7/dist-packages (from requests; extra == \"http\"->fsspec[http]>=0.8.1->pytorch_lightning==1.1.4) (3.0.4)\n",
            "Requirement already satisfied: certifi>=2017.4.17 in /usr/local/lib/python3.7/dist-packages (from requests; extra == \"http\"->fsspec[http]>=0.8.1->pytorch_lightning==1.1.4) (2020.12.5)\n",
            "Requirement already satisfied: urllib3!=1.25.0,!=1.25.1,<1.26,>=1.21.1 in /usr/local/lib/python3.7/dist-packages (from requests; extra == \"http\"->fsspec[http]>=0.8.1->pytorch_lightning==1.1.4) (1.24.3)\n",
            "Collecting async-timeout<4.0,>=3.0\n",
            "  Downloading https://files.pythonhosted.org/packages/e1/1e/5a4441be21b0726c4464f3f23c8b19628372f606755a9d2e46c187e65ec4/async_timeout-3.0.1-py3-none-any.whl\n",
            "Requirement already satisfied: attrs>=17.3.0 in /usr/local/lib/python3.7/dist-packages (from aiohttp; extra == \"http\"->fsspec[http]>=0.8.1->pytorch_lightning==1.1.4) (20.3.0)\n",
            "Collecting yarl<2.0,>=1.0\n",
            "\u001b[?25l  Downloading https://files.pythonhosted.org/packages/f1/62/046834c5fc998c88ab2ef722f5d42122230a632212c8afa76418324f53ff/yarl-1.6.3-cp37-cp37m-manylinux2014_x86_64.whl (294kB)\n",
            "\u001b[K     |████████████████████████████████| 296kB 51.2MB/s \n",
            "\u001b[?25hCollecting multidict<7.0,>=4.5\n",
            "\u001b[?25l  Downloading https://files.pythonhosted.org/packages/7c/a6/4123b8165acbe773d1a8dc8e3f0d1edea16d29f7de018eda769abb56bd30/multidict-5.1.0-cp37-cp37m-manylinux2014_x86_64.whl (142kB)\n",
            "\u001b[K     |████████████████████████████████| 143kB 51.1MB/s \n",
            "\u001b[?25hRequirement already satisfied: rsa<5,>=3.1.4; python_version >= \"3.6\" in /usr/local/lib/python3.7/dist-packages (from google-auth<2,>=1.6.3->tensorboard>=2.2.0->pytorch_lightning==1.1.4) (4.7.1)\n",
            "Requirement already satisfied: cachetools<5.0,>=2.0.0 in /usr/local/lib/python3.7/dist-packages (from google-auth<2,>=1.6.3->tensorboard>=2.2.0->pytorch_lightning==1.1.4) (4.2.1)\n",
            "Requirement already satisfied: pyasn1-modules>=0.2.1 in /usr/local/lib/python3.7/dist-packages (from google-auth<2,>=1.6.3->tensorboard>=2.2.0->pytorch_lightning==1.1.4) (0.2.8)\n",
            "Requirement already satisfied: requests-oauthlib>=0.7.0 in /usr/local/lib/python3.7/dist-packages (from google-auth-oauthlib<0.5,>=0.4.1->tensorboard>=2.2.0->pytorch_lightning==1.1.4) (1.3.0)\n",
            "Requirement already satisfied: pyasn1>=0.1.3 in /usr/local/lib/python3.7/dist-packages (from rsa<5,>=3.1.4; python_version >= \"3.6\"->google-auth<2,>=1.6.3->tensorboard>=2.2.0->pytorch_lightning==1.1.4) (0.4.8)\n",
            "Requirement already satisfied: oauthlib>=3.0.0 in /usr/local/lib/python3.7/dist-packages (from requests-oauthlib>=0.7.0->google-auth-oauthlib<0.5,>=0.4.1->tensorboard>=2.2.0->pytorch_lightning==1.1.4) (3.1.0)\n",
            "Building wheels for collected packages: future\n",
            "  Building wheel for future (setup.py) ... \u001b[?25l\u001b[?25hdone\n",
            "  Created wheel for future: filename=future-0.18.2-cp37-none-any.whl size=491058 sha256=a30653dd1bbfe936863cf4d2b9026c880c8c99066b0b50bda268091145135322\n",
            "  Stored in directory: /root/.cache/pip/wheels/8b/99/a0/81daf51dcd359a9377b110a8a886b3895921802d2fc1b2397e\n",
            "Successfully built future\n",
            "Installing collected packages: PyYAML, async-timeout, multidict, yarl, aiohttp, fsspec, future, pytorch-lightning\n",
            "  Found existing installation: PyYAML 3.13\n",
            "    Uninstalling PyYAML-3.13:\n",
            "      Successfully uninstalled PyYAML-3.13\n",
            "  Found existing installation: future 0.16.0\n",
            "    Uninstalling future-0.16.0:\n",
            "      Successfully uninstalled future-0.16.0\n",
            "Successfully installed PyYAML-5.4.1 aiohttp-3.7.4 async-timeout-3.0.1 fsspec-0.8.7 future-0.18.2 multidict-5.1.0 pytorch-lightning-1.1.4 yarl-1.6.3\n",
            "env: PYTHONPATH=.:$PYTHONPATH\n"
          ],
          "name": "stdout"
        }
      ]
    },
    {
      "cell_type": "code",
      "metadata": {
        "colab": {
          "base_uri": "https://localhost:8080/"
        },
        "id": "1bVDJvsLoLOC",
        "outputId": "3b15ee56-fc77-4f6d-b3ff-4a37ee1be725"
      },
      "source": [
        "!pip install pytorch-lightning"
      ],
      "execution_count": null,
      "outputs": [
        {
          "output_type": "stream",
          "text": [
            "Requirement already satisfied: pytorch-lightning in /usr/local/lib/python3.7/dist-packages (1.1.4)\n",
            "Requirement already satisfied: tqdm>=4.41.0 in /usr/local/lib/python3.7/dist-packages (from pytorch-lightning) (4.41.1)\n",
            "Requirement already satisfied: PyYAML>=5.1 in /usr/local/lib/python3.7/dist-packages (from pytorch-lightning) (5.4.1)\n",
            "Requirement already satisfied: tensorboard>=2.2.0 in /usr/local/lib/python3.7/dist-packages (from pytorch-lightning) (2.4.1)\n",
            "Requirement already satisfied: future>=0.17.1 in /usr/local/lib/python3.7/dist-packages (from pytorch-lightning) (0.18.2)\n",
            "Requirement already satisfied: torch>=1.3 in /usr/local/lib/python3.7/dist-packages (from pytorch-lightning) (1.7.0+cu101)\n",
            "Requirement already satisfied: numpy>=1.16.6 in /usr/local/lib/python3.7/dist-packages (from pytorch-lightning) (1.19.5)\n",
            "Requirement already satisfied: fsspec[http]>=0.8.1 in /usr/local/lib/python3.7/dist-packages (from pytorch-lightning) (0.8.7)\n",
            "Requirement already satisfied: setuptools>=41.0.0 in /usr/local/lib/python3.7/dist-packages (from tensorboard>=2.2.0->pytorch-lightning) (53.0.0)\n",
            "Requirement already satisfied: tensorboard-plugin-wit>=1.6.0 in /usr/local/lib/python3.7/dist-packages (from tensorboard>=2.2.0->pytorch-lightning) (1.8.0)\n",
            "Requirement already satisfied: wheel>=0.26; python_version >= \"3\" in /usr/local/lib/python3.7/dist-packages (from tensorboard>=2.2.0->pytorch-lightning) (0.36.2)\n",
            "Requirement already satisfied: absl-py>=0.4 in /usr/local/lib/python3.7/dist-packages (from tensorboard>=2.2.0->pytorch-lightning) (0.10.0)\n",
            "Requirement already satisfied: werkzeug>=0.11.15 in /usr/local/lib/python3.7/dist-packages (from tensorboard>=2.2.0->pytorch-lightning) (1.0.1)\n",
            "Requirement already satisfied: google-auth<2,>=1.6.3 in /usr/local/lib/python3.7/dist-packages (from tensorboard>=2.2.0->pytorch-lightning) (1.27.0)\n",
            "Requirement already satisfied: google-auth-oauthlib<0.5,>=0.4.1 in /usr/local/lib/python3.7/dist-packages (from tensorboard>=2.2.0->pytorch-lightning) (0.4.2)\n",
            "Requirement already satisfied: protobuf>=3.6.0 in /usr/local/lib/python3.7/dist-packages (from tensorboard>=2.2.0->pytorch-lightning) (3.12.4)\n",
            "Requirement already satisfied: requests<3,>=2.21.0 in /usr/local/lib/python3.7/dist-packages (from tensorboard>=2.2.0->pytorch-lightning) (2.23.0)\n",
            "Requirement already satisfied: grpcio>=1.24.3 in /usr/local/lib/python3.7/dist-packages (from tensorboard>=2.2.0->pytorch-lightning) (1.32.0)\n",
            "Requirement already satisfied: six>=1.10.0 in /usr/local/lib/python3.7/dist-packages (from tensorboard>=2.2.0->pytorch-lightning) (1.15.0)\n",
            "Requirement already satisfied: markdown>=2.6.8 in /usr/local/lib/python3.7/dist-packages (from tensorboard>=2.2.0->pytorch-lightning) (3.3.3)\n",
            "Requirement already satisfied: typing-extensions in /usr/local/lib/python3.7/dist-packages (from torch>=1.3->pytorch-lightning) (3.7.4.3)\n",
            "Requirement already satisfied: dataclasses in /usr/local/lib/python3.7/dist-packages (from torch>=1.3->pytorch-lightning) (0.6)\n",
            "Requirement already satisfied: importlib-metadata; python_version < \"3.8\" in /usr/local/lib/python3.7/dist-packages (from fsspec[http]>=0.8.1->pytorch-lightning) (3.4.0)\n",
            "Requirement already satisfied: aiohttp; extra == \"http\" in /usr/local/lib/python3.7/dist-packages (from fsspec[http]>=0.8.1->pytorch-lightning) (3.7.4)\n",
            "Requirement already satisfied: rsa<5,>=3.1.4; python_version >= \"3.6\" in /usr/local/lib/python3.7/dist-packages (from google-auth<2,>=1.6.3->tensorboard>=2.2.0->pytorch-lightning) (4.7.1)\n",
            "Requirement already satisfied: cachetools<5.0,>=2.0.0 in /usr/local/lib/python3.7/dist-packages (from google-auth<2,>=1.6.3->tensorboard>=2.2.0->pytorch-lightning) (4.2.1)\n",
            "Requirement already satisfied: pyasn1-modules>=0.2.1 in /usr/local/lib/python3.7/dist-packages (from google-auth<2,>=1.6.3->tensorboard>=2.2.0->pytorch-lightning) (0.2.8)\n",
            "Requirement already satisfied: requests-oauthlib>=0.7.0 in /usr/local/lib/python3.7/dist-packages (from google-auth-oauthlib<0.5,>=0.4.1->tensorboard>=2.2.0->pytorch-lightning) (1.3.0)\n",
            "Requirement already satisfied: chardet<4,>=3.0.2 in /usr/local/lib/python3.7/dist-packages (from requests<3,>=2.21.0->tensorboard>=2.2.0->pytorch-lightning) (3.0.4)\n",
            "Requirement already satisfied: idna<3,>=2.5 in /usr/local/lib/python3.7/dist-packages (from requests<3,>=2.21.0->tensorboard>=2.2.0->pytorch-lightning) (2.10)\n",
            "Requirement already satisfied: certifi>=2017.4.17 in /usr/local/lib/python3.7/dist-packages (from requests<3,>=2.21.0->tensorboard>=2.2.0->pytorch-lightning) (2020.12.5)\n",
            "Requirement already satisfied: urllib3!=1.25.0,!=1.25.1,<1.26,>=1.21.1 in /usr/local/lib/python3.7/dist-packages (from requests<3,>=2.21.0->tensorboard>=2.2.0->pytorch-lightning) (1.24.3)\n",
            "Requirement already satisfied: zipp>=0.5 in /usr/local/lib/python3.7/dist-packages (from importlib-metadata; python_version < \"3.8\"->fsspec[http]>=0.8.1->pytorch-lightning) (3.4.0)\n",
            "Requirement already satisfied: multidict<7.0,>=4.5 in /usr/local/lib/python3.7/dist-packages (from aiohttp; extra == \"http\"->fsspec[http]>=0.8.1->pytorch-lightning) (5.1.0)\n",
            "Requirement already satisfied: async-timeout<4.0,>=3.0 in /usr/local/lib/python3.7/dist-packages (from aiohttp; extra == \"http\"->fsspec[http]>=0.8.1->pytorch-lightning) (3.0.1)\n",
            "Requirement already satisfied: yarl<2.0,>=1.0 in /usr/local/lib/python3.7/dist-packages (from aiohttp; extra == \"http\"->fsspec[http]>=0.8.1->pytorch-lightning) (1.6.3)\n",
            "Requirement already satisfied: attrs>=17.3.0 in /usr/local/lib/python3.7/dist-packages (from aiohttp; extra == \"http\"->fsspec[http]>=0.8.1->pytorch-lightning) (20.3.0)\n",
            "Requirement already satisfied: pyasn1>=0.1.3 in /usr/local/lib/python3.7/dist-packages (from rsa<5,>=3.1.4; python_version >= \"3.6\"->google-auth<2,>=1.6.3->tensorboard>=2.2.0->pytorch-lightning) (0.4.8)\n",
            "Requirement already satisfied: oauthlib>=3.0.0 in /usr/local/lib/python3.7/dist-packages (from requests-oauthlib>=0.7.0->google-auth-oauthlib<0.5,>=0.4.1->tensorboard>=2.2.0->pytorch-lightning) (3.1.0)\n"
          ],
          "name": "stdout"
        }
      ]
    },
    {
      "cell_type": "code",
      "metadata": {
        "colab": {
          "base_uri": "https://localhost:8080/"
        },
        "id": "nQEBEgkcobJb",
        "outputId": "99580004-9e9b-4bf6-edbd-3ccb69fd57d4"
      },
      "source": [
        "cd lab1/"
      ],
      "execution_count": null,
      "outputs": [
        {
          "output_type": "stream",
          "text": [
            "/content/fsdl-text-recognizer-2021-labs/lab1\n"
          ],
          "name": "stdout"
        }
      ]
    },
    {
      "cell_type": "code",
      "metadata": {
        "colab": {
          "base_uri": "https://localhost:8080/"
        },
        "id": "stPaZS8goa9j",
        "outputId": "0f647bc3-5837-4368-f1fd-0121ecf0a71d"
      },
      "source": [
        "!python3 training/run_experiment.py --model_class=MLP --data_class=MNIST --max_epochs=5 --gpus=1"
      ],
      "execution_count": null,
      "outputs": [
        {
          "output_type": "stream",
          "text": [
            "/usr/local/lib/python3.7/dist-packages/pytorch_lightning/utilities/distributed.py:49: UserWarning: You have set progress_bar_refresh_rate < 20 on Google Colab. This may crash. Consider using progress_bar_refresh_rate >= 20 in Trainer.\n",
            "  warnings.warn(*args, **kwargs)\n",
            "GPU available: True, used: True\n",
            "TPU available: None, using: 0 TPU cores\n",
            "LOCAL_RANK: 0 - CUDA_VISIBLE_DEVICES: [0]\n",
            "Downloading http://yann.lecun.com/exdb/mnist/train-images-idx3-ubyte.gz to /content/fsdl-text-recognizer-2021-labs/data/downloaded/MNIST/raw/train-images-idx3-ubyte.gz\n",
            "9920512it [00:01, 9136356.22it/s]                 \n",
            "Extracting /content/fsdl-text-recognizer-2021-labs/data/downloaded/MNIST/raw/train-images-idx3-ubyte.gz to /content/fsdl-text-recognizer-2021-labs/data/downloaded/MNIST/raw\n",
            "Downloading http://yann.lecun.com/exdb/mnist/train-labels-idx1-ubyte.gz to /content/fsdl-text-recognizer-2021-labs/data/downloaded/MNIST/raw/train-labels-idx1-ubyte.gz\n",
            "32768it [00:00, 129774.84it/s]\n",
            "Extracting /content/fsdl-text-recognizer-2021-labs/data/downloaded/MNIST/raw/train-labels-idx1-ubyte.gz to /content/fsdl-text-recognizer-2021-labs/data/downloaded/MNIST/raw\n",
            "Downloading http://yann.lecun.com/exdb/mnist/t10k-images-idx3-ubyte.gz to /content/fsdl-text-recognizer-2021-labs/data/downloaded/MNIST/raw/t10k-images-idx3-ubyte.gz\n",
            "1654784it [00:00, 2520311.12it/s]               \n",
            "Extracting /content/fsdl-text-recognizer-2021-labs/data/downloaded/MNIST/raw/t10k-images-idx3-ubyte.gz to /content/fsdl-text-recognizer-2021-labs/data/downloaded/MNIST/raw\n",
            "Downloading http://yann.lecun.com/exdb/mnist/t10k-labels-idx1-ubyte.gz to /content/fsdl-text-recognizer-2021-labs/data/downloaded/MNIST/raw/t10k-labels-idx1-ubyte.gz\n",
            "8192it [00:00, 47464.30it/s]\n",
            "Extracting /content/fsdl-text-recognizer-2021-labs/data/downloaded/MNIST/raw/t10k-labels-idx1-ubyte.gz to /content/fsdl-text-recognizer-2021-labs/data/downloaded/MNIST/raw\n",
            "Processing...\n",
            "/usr/local/lib/python3.7/dist-packages/torchvision/datasets/mnist.py:480: UserWarning: The given NumPy array is not writeable, and PyTorch does not support non-writeable tensors. This means you can write to the underlying (supposedly non-writeable) NumPy array using the tensor. You may want to copy the array to protect its data or make it writeable before converting it to a tensor. This type of warning will be suppressed for the rest of this program. (Triggered internally at  /pytorch/torch/csrc/utils/tensor_numpy.cpp:141.)\n",
            "  return torch.from_numpy(parsed.astype(m[2], copy=False)).view(*s)\n",
            "Done!\n",
            "2021-02-26 00:01:37.459137: I tensorflow/stream_executor/platform/default/dso_loader.cc:49] Successfully opened dynamic library libcudart.so.10.1\n",
            "\n",
            "  | Name          | Type     | Params\n",
            "-------------------------------------------\n",
            "0 | model         | MLP      | 936 K \n",
            "1 | model.dropout | Dropout  | 0     \n",
            "2 | model.fc1     | Linear   | 803 K \n",
            "3 | model.fc2     | Linear   | 131 K \n",
            "4 | model.fc3     | Linear   | 1.3 K \n",
            "5 | train_acc     | Accuracy | 0     \n",
            "6 | val_acc       | Accuracy | 0     \n",
            "7 | test_acc      | Accuracy | 0     \n",
            "-------------------------------------------\n",
            "936 K     Trainable params\n",
            "0         Non-trainable params\n",
            "936 K     Total params\n",
            "Epoch 0:  91% 430/470 [00:10<00:00, 40.39it/s, loss=0.212, v_num=0, val_loss=2.33, val_acc=0.0664]\n",
            "Epoch 0:  93% 435/470 [00:10<00:00, 40.55it/s, loss=0.212, v_num=0, val_loss=2.33, val_acc=0.0664]\n",
            "Validating:  12% 5/40 [00:00<00:00, 47.57it/s]\u001b[A\n",
            "Epoch 0:  94% 442/470 [00:10<00:00, 40.53it/s, loss=0.212, v_num=0, val_loss=2.33, val_acc=0.0664]\n",
            "Validating:  32% 13/40 [00:00<00:00, 42.53it/s]\u001b[A\n",
            "Epoch 0:  96% 449/470 [00:11<00:00, 40.52it/s, loss=0.212, v_num=0, val_loss=2.33, val_acc=0.0664]\n",
            "Epoch 0:  97% 456/470 [00:11<00:00, 40.45it/s, loss=0.212, v_num=0, val_loss=2.33, val_acc=0.0664]\n",
            "Validating:  65% 26/40 [00:00<00:00, 39.18it/s]\u001b[A\n",
            "Epoch 0:  99% 463/470 [00:11<00:00, 40.44it/s, loss=0.212, v_num=0, val_loss=2.33, val_acc=0.0664]\n",
            "Epoch 0: 100% 470/470 [00:11<00:00, 40.29it/s, loss=0.212, v_num=0, val_loss=0.151, val_acc=0.956]\n",
            "Epoch 1:  91% 430/470 [00:10<00:00, 41.40it/s, loss=0.169, v_num=0, val_loss=0.151, val_acc=0.956]\n",
            "Epoch 1:  92% 434/470 [00:10<00:00, 41.55it/s, loss=0.169, v_num=0, val_loss=0.151, val_acc=0.956]\n",
            "Epoch 1:  94% 441/470 [00:10<00:00, 41.66it/s, loss=0.169, v_num=0, val_loss=0.151, val_acc=0.956]\n",
            "Validating:  28% 11/40 [00:00<00:00, 51.01it/s]\u001b[A\n",
            "Epoch 1:  95% 448/470 [00:10<00:00, 41.78it/s, loss=0.169, v_num=0, val_loss=0.151, val_acc=0.956]\n",
            "Epoch 1:  97% 455/470 [00:10<00:00, 41.89it/s, loss=0.169, v_num=0, val_loss=0.151, val_acc=0.956]\n",
            "Epoch 1:  98% 462/470 [00:11<00:00, 41.98it/s, loss=0.169, v_num=0, val_loss=0.151, val_acc=0.956]\n",
            "Epoch 1: 100% 469/470 [00:11<00:00, 42.08it/s, loss=0.169, v_num=0, val_loss=0.151, val_acc=0.956]\n",
            "Epoch 1: 100% 470/470 [00:11<00:00, 41.93it/s, loss=0.169, v_num=0, val_loss=0.119, val_acc=0.967]\n",
            "Epoch 2:  91% 430/470 [00:10<00:00, 41.93it/s, loss=0.136, v_num=0, val_loss=0.119, val_acc=0.967]\n",
            "Epoch 2:  92% 434/470 [00:10<00:00, 42.07it/s, loss=0.136, v_num=0, val_loss=0.119, val_acc=0.967]\n",
            "Epoch 2:  94% 441/470 [00:10<00:00, 42.19it/s, loss=0.136, v_num=0, val_loss=0.119, val_acc=0.967]\n",
            "Validating:  30% 12/40 [00:00<00:00, 51.30it/s]\u001b[A\n",
            "Epoch 2:  95% 448/470 [00:10<00:00, 42.27it/s, loss=0.136, v_num=0, val_loss=0.119, val_acc=0.967]\n",
            "Epoch 2:  97% 455/470 [00:10<00:00, 42.29it/s, loss=0.136, v_num=0, val_loss=0.119, val_acc=0.967]\n",
            "Epoch 2:  98% 462/470 [00:10<00:00, 42.30it/s, loss=0.136, v_num=0, val_loss=0.119, val_acc=0.967]\n",
            "Validating:  80% 32/40 [00:00<00:00, 44.69it/s]\u001b[A\n",
            "Epoch 2: 100% 470/470 [00:11<00:00, 42.07it/s, loss=0.136, v_num=0, val_loss=0.113, val_acc=0.967]\n",
            "Epoch 3:  91% 430/470 [00:10<00:00, 40.01it/s, loss=0.132, v_num=0, val_loss=0.113, val_acc=0.967]\n",
            "Epoch 3:  92% 434/470 [00:10<00:00, 40.12it/s, loss=0.132, v_num=0, val_loss=0.113, val_acc=0.967]\n",
            "Validating:  12% 5/40 [00:00<00:00, 44.61it/s]\u001b[A\n",
            "Epoch 3:  94% 441/470 [00:10<00:00, 40.23it/s, loss=0.132, v_num=0, val_loss=0.113, val_acc=0.967]\n",
            "Epoch 3:  95% 448/470 [00:11<00:00, 40.34it/s, loss=0.132, v_num=0, val_loss=0.113, val_acc=0.967]\n",
            "Epoch 3:  97% 455/470 [00:11<00:00, 40.45it/s, loss=0.132, v_num=0, val_loss=0.113, val_acc=0.967]\n",
            "Validating:  65% 26/40 [00:00<00:00, 47.89it/s]\u001b[A\n",
            "Epoch 3:  98% 462/470 [00:11<00:00, 40.56it/s, loss=0.132, v_num=0, val_loss=0.113, val_acc=0.967]\n",
            "Epoch 3: 100% 470/470 [00:11<00:00, 40.41it/s, loss=0.132, v_num=0, val_loss=0.0916, val_acc=0.975]\n",
            "Epoch 4:  91% 430/470 [00:10<00:00, 41.63it/s, loss=0.102, v_num=0, val_loss=0.0916, val_acc=0.975]\n",
            "Epoch 4:  92% 434/470 [00:10<00:00, 41.77it/s, loss=0.102, v_num=0, val_loss=0.0916, val_acc=0.975]\n",
            "Epoch 4:  94% 441/470 [00:10<00:00, 41.81it/s, loss=0.102, v_num=0, val_loss=0.0916, val_acc=0.975]\n",
            "Validating:  28% 11/40 [00:00<00:00, 47.30it/s]\u001b[A\n",
            "Epoch 4:  95% 448/470 [00:10<00:00, 41.85it/s, loss=0.102, v_num=0, val_loss=0.0916, val_acc=0.975]\n",
            "Epoch 4:  97% 455/470 [00:10<00:00, 41.90it/s, loss=0.102, v_num=0, val_loss=0.0916, val_acc=0.975]\n",
            "Validating:  65% 26/40 [00:00<00:00, 46.52it/s]\u001b[A\n",
            "Epoch 4:  98% 462/470 [00:11<00:00, 41.99it/s, loss=0.102, v_num=0, val_loss=0.0916, val_acc=0.975]\n",
            "Epoch 4: 100% 470/470 [00:11<00:00, 42.10it/s, loss=0.102, v_num=0, val_loss=0.092, val_acc=0.974] \n",
            "Epoch 4: 100% 470/470 [00:11<00:00, 41.97it/s, loss=0.102, v_num=0, val_loss=0.092, val_acc=0.974]\n",
            "Testing: 100% 79/79 [00:01<00:00, 50.68it/s]\n",
            "--------------------------------------------------------------------------------\n",
            "DATALOADER:0 TEST RESULTS\n",
            "{'test_acc': tensor(0.9750, device='cuda:0')}\n",
            "--------------------------------------------------------------------------------\n"
          ],
          "name": "stdout"
        }
      ]
    },
    {
      "cell_type": "code",
      "metadata": {
        "colab": {
          "base_uri": "https://localhost:8080/"
        },
        "id": "QYe7ytX9pSE0",
        "outputId": "5df3eb4e-ee3a-4fe7-f8e3-b302721efca7"
      },
      "source": [
        "!python3 training/run_experiment.py --model_class=MLP --data_class=MNIST --max_epochs=5 --gpus=1 --fc1=4 --fc2=8"
      ],
      "execution_count": null,
      "outputs": [
        {
          "output_type": "stream",
          "text": [
            "/usr/local/lib/python3.7/dist-packages/pytorch_lightning/utilities/distributed.py:49: UserWarning: You have set progress_bar_refresh_rate < 20 on Google Colab. This may crash. Consider using progress_bar_refresh_rate >= 20 in Trainer.\n",
            "  warnings.warn(*args, **kwargs)\n",
            "GPU available: True, used: True\n",
            "TPU available: None, using: 0 TPU cores\n",
            "LOCAL_RANK: 0 - CUDA_VISIBLE_DEVICES: [0]\n",
            "2021-02-26 00:03:16.271950: I tensorflow/stream_executor/platform/default/dso_loader.cc:49] Successfully opened dynamic library libcudart.so.10.1\n",
            "\n",
            "  | Name          | Type     | Params\n",
            "-------------------------------------------\n",
            "0 | model         | MLP      | 3.3 K \n",
            "1 | model.dropout | Dropout  | 0     \n",
            "2 | model.fc1     | Linear   | 3.1 K \n",
            "3 | model.fc2     | Linear   | 40    \n",
            "4 | model.fc3     | Linear   | 90    \n",
            "5 | train_acc     | Accuracy | 0     \n",
            "6 | val_acc       | Accuracy | 0     \n",
            "7 | test_acc      | Accuracy | 0     \n",
            "-------------------------------------------\n",
            "3.3 K     Trainable params\n",
            "0         Non-trainable params\n",
            "3.3 K     Total params\n",
            "Epoch 0:  91% 430/470 [00:10<00:00, 40.82it/s, loss=2.03, v_num=1, val_loss=2.32, val_acc=0.0898]\n",
            "Validating: 0it [00:00, ?it/s]\u001b[A\n",
            "Epoch 0:  93% 436/470 [00:10<00:00, 40.99it/s, loss=2.03, v_num=1, val_loss=2.32, val_acc=0.0898]\n",
            "Epoch 0:  94% 442/470 [00:10<00:00, 41.05it/s, loss=2.03, v_num=1, val_loss=2.32, val_acc=0.0898]\n",
            "Epoch 0:  95% 448/470 [00:10<00:00, 41.08it/s, loss=2.03, v_num=1, val_loss=2.32, val_acc=0.0898]\n",
            "Epoch 0:  97% 454/470 [00:11<00:00, 41.18it/s, loss=2.03, v_num=1, val_loss=2.32, val_acc=0.0898]\n",
            "Epoch 0:  98% 460/470 [00:11<00:00, 41.28it/s, loss=2.03, v_num=1, val_loss=2.32, val_acc=0.0898]\n",
            "Epoch 0:  99% 466/470 [00:11<00:00, 41.39it/s, loss=2.03, v_num=1, val_loss=2.32, val_acc=0.0898]\n",
            "Epoch 0: 100% 470/470 [00:11<00:00, 41.43it/s, loss=2.03, v_num=1, val_loss=1.74, val_acc=0.406] \n",
            "Epoch 1:  91% 430/470 [00:10<00:00, 40.98it/s, loss=1.96, v_num=1, val_loss=1.74, val_acc=0.406]\n",
            "Epoch 1:  92% 433/470 [00:10<00:00, 41.11it/s, loss=1.96, v_num=1, val_loss=1.74, val_acc=0.406]\n",
            "Epoch 1:  94% 440/470 [00:10<00:00, 41.22it/s, loss=1.96, v_num=1, val_loss=1.74, val_acc=0.406]\n",
            "Validating:  28% 11/40 [00:00<00:00, 50.27it/s]\u001b[A\n",
            "Epoch 1:  95% 447/470 [00:10<00:00, 41.33it/s, loss=1.96, v_num=1, val_loss=1.74, val_acc=0.406]\n",
            "Epoch 1:  97% 454/470 [00:10<00:00, 41.45it/s, loss=1.96, v_num=1, val_loss=1.74, val_acc=0.406]\n",
            "Epoch 1:  98% 461/470 [00:11<00:00, 41.56it/s, loss=1.96, v_num=1, val_loss=1.74, val_acc=0.406]\n",
            "Epoch 1: 100% 468/470 [00:11<00:00, 41.68it/s, loss=1.96, v_num=1, val_loss=1.74, val_acc=0.406]\n",
            "Epoch 1: 100% 470/470 [00:11<00:00, 41.68it/s, loss=1.96, v_num=1, val_loss=1.64, val_acc=0.403]\n",
            "Epoch 2:  91% 430/470 [00:10<00:00, 40.22it/s, loss=1.96, v_num=1, val_loss=1.64, val_acc=0.403]\n",
            "Epoch 2:  92% 434/470 [00:10<00:00, 40.31it/s, loss=1.96, v_num=1, val_loss=1.64, val_acc=0.403]\n",
            "Validating:  10% 4/40 [00:00<00:00, 39.45it/s]\u001b[A\n",
            "Epoch 2:  94% 441/470 [00:10<00:00, 40.30it/s, loss=1.96, v_num=1, val_loss=1.64, val_acc=0.403]\n",
            "Epoch 2:  95% 448/470 [00:11<00:00, 40.43it/s, loss=1.96, v_num=1, val_loss=1.64, val_acc=0.403]\n",
            "Validating:  48% 19/40 [00:00<00:00, 43.81it/s]\u001b[A\n",
            "Epoch 2:  97% 455/470 [00:11<00:00, 40.55it/s, loss=1.96, v_num=1, val_loss=1.64, val_acc=0.403]\n",
            "Epoch 2:  98% 462/470 [00:11<00:00, 40.62it/s, loss=1.96, v_num=1, val_loss=1.64, val_acc=0.403]\n",
            "Epoch 2: 100% 469/470 [00:11<00:00, 40.68it/s, loss=1.96, v_num=1, val_loss=1.64, val_acc=0.403]\n",
            "Epoch 2: 100% 470/470 [00:11<00:00, 40.68it/s, loss=1.96, v_num=1, val_loss=1.61, val_acc=0.422]\n",
            "Epoch 3:  91% 430/470 [00:10<00:00, 40.30it/s, loss=1.97, v_num=1, val_loss=1.61, val_acc=0.422]\n",
            "Epoch 3:  92% 434/470 [00:10<00:00, 40.42it/s, loss=1.97, v_num=1, val_loss=1.61, val_acc=0.422]\n",
            "Validating:  12% 5/40 [00:00<00:00, 46.05it/s]\u001b[A\n",
            "Epoch 3:  94% 441/470 [00:10<00:00, 40.51it/s, loss=1.97, v_num=1, val_loss=1.61, val_acc=0.422]\n",
            "Epoch 3:  95% 448/470 [00:11<00:00, 40.57it/s, loss=1.97, v_num=1, val_loss=1.61, val_acc=0.422]\n",
            "Epoch 3:  97% 455/470 [00:11<00:00, 40.65it/s, loss=1.97, v_num=1, val_loss=1.61, val_acc=0.422]\n",
            "Validating:  62% 25/40 [00:00<00:00, 46.10it/s]\u001b[A\n",
            "Epoch 3:  98% 462/470 [00:11<00:00, 40.73it/s, loss=1.97, v_num=1, val_loss=1.61, val_acc=0.422]\n",
            "Epoch 3: 100% 470/470 [00:11<00:00, 40.75it/s, loss=1.97, v_num=1, val_loss=1.6, val_acc=0.415] \n",
            "Epoch 4:  91% 430/470 [00:10<00:00, 42.09it/s, loss=1.97, v_num=1, val_loss=1.6, val_acc=0.415]\n",
            "Epoch 4:  92% 434/470 [00:10<00:00, 42.23it/s, loss=1.97, v_num=1, val_loss=1.6, val_acc=0.415]\n",
            "Epoch 4:  94% 441/470 [00:10<00:00, 42.35it/s, loss=1.97, v_num=1, val_loss=1.6, val_acc=0.415]\n",
            "Validating:  30% 12/40 [00:00<00:00, 51.77it/s]\u001b[A\n",
            "Epoch 4:  95% 448/470 [00:10<00:00, 42.45it/s, loss=1.97, v_num=1, val_loss=1.6, val_acc=0.415]\n",
            "Epoch 4:  97% 455/470 [00:10<00:00, 42.53it/s, loss=1.97, v_num=1, val_loss=1.6, val_acc=0.415]\n",
            "Epoch 4:  98% 462/470 [00:10<00:00, 42.62it/s, loss=1.97, v_num=1, val_loss=1.6, val_acc=0.415]\n",
            "Validating:  80% 32/40 [00:00<00:00, 49.52it/s]\u001b[A\n",
            "Epoch 4: 100% 470/470 [00:11<00:00, 42.68it/s, loss=1.97, v_num=1, val_loss=1.58, val_acc=0.416]\n",
            "Epoch 4: 100% 470/470 [00:11<00:00, 42.56it/s, loss=1.97, v_num=1, val_loss=1.58, val_acc=0.416]\n",
            "Testing: 100% 79/79 [00:01<00:00, 50.57it/s]\n",
            "--------------------------------------------------------------------------------\n",
            "DATALOADER:0 TEST RESULTS\n",
            "{'test_acc': tensor(0.4123, device='cuda:0')}\n",
            "--------------------------------------------------------------------------------\n"
          ],
          "name": "stdout"
        }
      ]
    },
    {
      "cell_type": "code",
      "metadata": {
        "colab": {
          "base_uri": "https://localhost:8080/"
        },
        "id": "XvhXJ6M4prE6",
        "outputId": "a887cba9-3b09-46a1-f66f-6a7cc13963cd"
      },
      "source": [
        "!python3 training/run_experiment.py --model_class=MLP --data_class=MNIST --max_epochs=5 --gpus=1"
      ],
      "execution_count": null,
      "outputs": [
        {
          "output_type": "stream",
          "text": [
            "/usr/local/lib/python3.7/dist-packages/pytorch_lightning/utilities/distributed.py:49: UserWarning: You have set progress_bar_refresh_rate < 20 on Google Colab. This may crash. Consider using progress_bar_refresh_rate >= 20 in Trainer.\n",
            "  warnings.warn(*args, **kwargs)\n",
            "GPU available: True, used: True\n",
            "TPU available: None, using: 0 TPU cores\n",
            "LOCAL_RANK: 0 - CUDA_VISIBLE_DEVICES: [0]\n",
            "2021-02-26 00:16:01.972300: I tensorflow/stream_executor/platform/default/dso_loader.cc:49] Successfully opened dynamic library libcudart.so.10.1\n",
            "\n",
            "  | Name          | Type     | Params\n",
            "-------------------------------------------\n",
            "0 | model         | MLP      | 952 K \n",
            "1 | model.dropout | Dropout  | 0     \n",
            "2 | model.fc1     | Linear   | 803 K \n",
            "3 | model.fc2     | Linear   | 131 K \n",
            "4 | model.fc3     | Linear   | 16.5 K\n",
            "5 | model.fc4     | Linear   | 1.3 K \n",
            "6 | train_acc     | Accuracy | 0     \n",
            "7 | val_acc       | Accuracy | 0     \n",
            "8 | test_acc      | Accuracy | 0     \n",
            "-------------------------------------------\n",
            "952 K     Trainable params\n",
            "0         Non-trainable params\n",
            "952 K     Total params\n",
            "Epoch 0:  91% 430/470 [00:10<00:00, 41.98it/s, loss=0.221, v_num=3, val_loss=4.9, val_acc=0]\n",
            "Epoch 0:  93% 436/470 [00:10<00:00, 42.16it/s, loss=0.221, v_num=3, val_loss=4.9, val_acc=0]\n",
            "Validating:  15% 6/40 [00:00<00:00, 51.67it/s]\u001b[A\n",
            "Epoch 0:  94% 443/470 [00:10<00:00, 42.30it/s, loss=0.221, v_num=3, val_loss=4.9, val_acc=0]\n",
            "Epoch 0:  96% 450/470 [00:10<00:00, 42.42it/s, loss=0.221, v_num=3, val_loss=4.9, val_acc=0]\n",
            "Epoch 0:  97% 457/470 [00:10<00:00, 42.55it/s, loss=0.221, v_num=3, val_loss=4.9, val_acc=0]\n",
            "Epoch 0:  99% 464/470 [00:10<00:00, 42.64it/s, loss=0.221, v_num=3, val_loss=4.9, val_acc=0]\n",
            "Epoch 0: 100% 470/470 [00:11<00:00, 42.53it/s, loss=0.221, v_num=3, val_loss=0.151, val_acc=0.952]\n",
            "Epoch 1:  91% 430/470 [00:10<00:00, 41.99it/s, loss=0.154, v_num=3, val_loss=0.151, val_acc=0.952]\n",
            "Epoch 1:  92% 434/470 [00:10<00:00, 42.14it/s, loss=0.154, v_num=3, val_loss=0.151, val_acc=0.952]\n",
            "Epoch 1:  94% 441/470 [00:10<00:00, 42.26it/s, loss=0.154, v_num=3, val_loss=0.151, val_acc=0.952]\n",
            "Epoch 1:  95% 448/470 [00:10<00:00, 42.36it/s, loss=0.154, v_num=3, val_loss=0.151, val_acc=0.952]\n",
            "Validating:  45% 18/40 [00:00<00:00, 50.94it/s]\u001b[A\n",
            "Epoch 1:  97% 455/470 [00:10<00:00, 42.47it/s, loss=0.154, v_num=3, val_loss=0.151, val_acc=0.952]\n",
            "Epoch 1:  98% 462/470 [00:10<00:00, 42.58it/s, loss=0.154, v_num=3, val_loss=0.151, val_acc=0.952]\n",
            "Epoch 1: 100% 470/470 [00:11<00:00, 42.48it/s, loss=0.154, v_num=3, val_loss=0.111, val_acc=0.968]\n",
            "Epoch 2:  91% 430/470 [00:10<00:00, 40.37it/s, loss=0.129, v_num=3, val_loss=0.111, val_acc=0.968]\n",
            "Epoch 2:  93% 435/470 [00:10<00:00, 40.53it/s, loss=0.129, v_num=3, val_loss=0.111, val_acc=0.968]\n",
            "Validating:  15% 6/40 [00:00<00:00, 50.55it/s]\u001b[A\n",
            "Epoch 2:  94% 443/470 [00:10<00:00, 40.69it/s, loss=0.129, v_num=3, val_loss=0.111, val_acc=0.968]\n",
            "Epoch 2:  96% 451/470 [00:11<00:00, 40.83it/s, loss=0.129, v_num=3, val_loss=0.111, val_acc=0.968]\n",
            "Epoch 2:  98% 459/470 [00:11<00:00, 40.97it/s, loss=0.129, v_num=3, val_loss=0.111, val_acc=0.968]\n",
            "Validating:  75% 30/40 [00:00<00:00, 51.02it/s]\u001b[A\n",
            "Epoch 2: 100% 470/470 [00:11<00:00, 41.03it/s, loss=0.129, v_num=3, val_loss=0.104, val_acc=0.969]\n",
            "Epoch 3:  91% 430/470 [00:10<00:00, 40.87it/s, loss=0.107, v_num=3, val_loss=0.104, val_acc=0.969]\n",
            "Epoch 3:  92% 432/470 [00:10<00:00, 40.98it/s, loss=0.107, v_num=3, val_loss=0.104, val_acc=0.969]\n",
            "Epoch 3:  94% 440/470 [00:10<00:00, 41.10it/s, loss=0.107, v_num=3, val_loss=0.104, val_acc=0.969]\n",
            "Validating:  28% 11/40 [00:00<00:00, 48.98it/s]\u001b[A\n",
            "Epoch 3:  95% 448/470 [00:10<00:00, 41.20it/s, loss=0.107, v_num=3, val_loss=0.104, val_acc=0.969]\n",
            "Epoch 3:  97% 456/470 [00:11<00:00, 41.34it/s, loss=0.107, v_num=3, val_loss=0.104, val_acc=0.969]\n",
            "Epoch 3:  99% 464/470 [00:11<00:00, 41.50it/s, loss=0.107, v_num=3, val_loss=0.104, val_acc=0.969]\n",
            "Validating:  85% 34/40 [00:00<00:00, 50.19it/s]\u001b[A\n",
            "Epoch 3: 100% 470/470 [00:11<00:00, 41.36it/s, loss=0.107, v_num=3, val_loss=0.0922, val_acc=0.972]\n",
            "Epoch 4:  91% 430/470 [00:10<00:00, 42.20it/s, loss=0.1, v_num=3, val_loss=0.0922, val_acc=0.972]   \n",
            "Epoch 4:  92% 432/470 [00:10<00:00, 42.31it/s, loss=0.1, v_num=3, val_loss=0.0922, val_acc=0.972]\n",
            "Epoch 4:  94% 440/470 [00:10<00:00, 42.43it/s, loss=0.1, v_num=3, val_loss=0.0922, val_acc=0.972]\n",
            "Validating:  28% 11/40 [00:00<00:00, 51.74it/s]\u001b[A\n",
            "Epoch 4:  95% 448/470 [00:10<00:00, 42.57it/s, loss=0.1, v_num=3, val_loss=0.0922, val_acc=0.972]\n",
            "Epoch 4:  97% 456/470 [00:10<00:00, 42.69it/s, loss=0.1, v_num=3, val_loss=0.0922, val_acc=0.972]\n",
            "Epoch 4:  99% 464/470 [00:10<00:00, 42.81it/s, loss=0.1, v_num=3, val_loss=0.0922, val_acc=0.972]\n",
            "Validating:  85% 34/40 [00:00<00:00, 51.13it/s]\u001b[A\n",
            "Epoch 4: 100% 470/470 [00:10<00:00, 42.87it/s, loss=0.1, v_num=3, val_loss=0.0959, val_acc=0.972]\n",
            "Epoch 4: 100% 470/470 [00:10<00:00, 42.74it/s, loss=0.1, v_num=3, val_loss=0.0959, val_acc=0.972]\n",
            "Testing: 100% 79/79 [00:01<00:00, 50.46it/s]\n",
            "--------------------------------------------------------------------------------\n",
            "DATALOADER:0 TEST RESULTS\n",
            "{'test_acc': tensor(0.9760, device='cuda:0')}\n",
            "--------------------------------------------------------------------------------\n"
          ],
          "name": "stdout"
        }
      ]
    }
  ]
}